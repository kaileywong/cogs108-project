{
 "cells": [
  {
   "cell_type": "code",
   "execution_count": 16,
   "metadata": {},
   "outputs": [
    {
     "name": "stdout",
     "output_type": "stream",
     "text": [
      "                                                   GPU       Release Date\n",
      "0                                        MOperations/s          MPixels/s\n",
      "1                                             STG-2000       May 22, 1995\n",
      "2                                             Riva 128    August 25, 1997\n",
      "3                                             Riva TNT      June 15, 1998\n",
      "4                                                Vanta     March 22, 1999\n",
      "..                                                 ...                ...\n",
      "931                                      MOperations/s          MTexels/s\n",
      "932                              XGPU (Xbox)[404][405]  November 15, 2001\n",
      "933                            RSX(PS3)[406][407][408]  November 11, 2006\n",
      "934                 NX-SoC (Nintendo Switch)[409][410]      March 3, 2017\n",
      "935  Maybe custom Orin[415]\\n(Nintendo Switch succe...          2024/2025\n",
      "\n",
      "[936 rows x 2 columns]\n"
     ]
    }
   ],
   "source": [
    "import wikipedia\n",
    "from bs4 import BeautifulSoup\n",
    "import pandas as pd\n",
    "\n",
    "def get_nvidia_gpu_data():\n",
    "    page_title = \"List_of_Nvidia_graphics_processing_units\"\n",
    "\n",
    "    try:\n",
    "        page = wikipedia.page(page_title)\n",
    "    except wikipedia.exceptions.DisambiguationError as e:\n",
    "        print(f\"Ambiguous page title: {page_title}\")\n",
    "        return None\n",
    "    except wikipedia.exceptions.HTTPTimeoutError as e:\n",
    "        print(\"Timeout error. Please try again later.\")\n",
    "        return None\n",
    "\n",
    "    soup = BeautifulSoup(page.html(), 'html.parser')\n",
    "    gpu_data = []\n",
    "\n",
    "    \n",
    "    for gpu_table in soup.find_all('table', {'class': 'wikitable'}):\n",
    "        for row in gpu_table.find_all('tr')[1:]:\n",
    "            columns = row.find_all(['th', 'td'])\n",
    "\n",
    "            \n",
    "            if len(columns) >= 6:  \n",
    "                gpu_name = columns[0].text.strip()\n",
    "                release_date = columns[1].text.strip()\n",
    "                gpu_data.append({'GPU': gpu_name, 'Release Date': release_date})\n",
    "\n",
    "    return pd.DataFrame(gpu_data)\n",
    "\n",
    "# Get Nvidia GPU data and display the DataFrame\n",
    "nvidia_gpu_df = get_nvidia_gpu_data()\n",
    "if nvidia_gpu_df is not None:\n",
    "    print(nvidia_gpu_df)\n"
   ]
  },
  {
   "cell_type": "code",
   "execution_count": 17,
   "metadata": {},
   "outputs": [
    {
     "name": "stdout",
     "output_type": "stream",
     "text": [
      "                                           GPU  \\\n",
      "12                          GeForce 256 SDR[8]   \n",
      "14            GeForce2 MX IGP + nForce 220/420   \n",
      "15                              GeForce2 MX200   \n",
      "16                              GeForce2 MX400   \n",
      "17                                GeForce2 GTS   \n",
      "..                                         ...   \n",
      "603                 GeForce MX330(Pascal)[280]   \n",
      "604                 GeForce MX350(Pascal)[281]   \n",
      "605            GeForce MX450(Turing)[282][283]   \n",
      "606  GeForce MX550(Turing)[284][285][286][287]   \n",
      "607  GeForce MX570(Ampere)[284][288][286][289]   \n",
      "\n",
      "                             Release Date  \n",
      "12                           Oct 11, 1999  \n",
      "14                           June 4, 2001  \n",
      "15                          March 3, 2001  \n",
      "16                          March 3, 2001  \n",
      "17                         April 26, 2000  \n",
      "..                                    ...  \n",
      "603                          Feb 12, 2020  \n",
      "604  GP107-670-A1(N17S-LP-A1)(N17S-G5-A1)  \n",
      "605                           Aug 1, 2020  \n",
      "606                              Mar 2022  \n",
      "607                              Mar 2022  \n",
      "\n",
      "[475 rows x 2 columns]\n"
     ]
    }
   ],
   "source": [
    "geforce_gpu_df = nvidia_gpu_df[nvidia_gpu_df['GPU'].str.contains('GeForce')]\n",
    "print(geforce_gpu_df)"
   ]
  },
  {
   "cell_type": "code",
   "execution_count": 22,
   "metadata": {},
   "outputs": [
    {
     "name": "stdout",
     "output_type": "stream",
     "text": [
      "                                           GPU  \\\n",
      "12                          GeForce 256 SDR[8]   \n",
      "14            GeForce2 MX IGP + nForce 220/420   \n",
      "15                              GeForce2 MX200   \n",
      "16                              GeForce2 MX400   \n",
      "17                                GeForce2 GTS   \n",
      "..                                         ...   \n",
      "603                 GeForce MX330(Pascal)[280]   \n",
      "604                 GeForce MX350(Pascal)[281]   \n",
      "605            GeForce MX450(Turing)[282][283]   \n",
      "606  GeForce MX550(Turing)[284][285][286][287]   \n",
      "607  GeForce MX570(Ampere)[284][288][286][289]   \n",
      "\n",
      "                             Release Date  \\\n",
      "12                                   1999   \n",
      "14                                   2001   \n",
      "15                                   2001   \n",
      "16                                   2001   \n",
      "17                                   2000   \n",
      "..                                    ...   \n",
      "603                                  2020   \n",
      "604  GP107-670-A1(N17S-LP-A1)(N17S-G5-A1)   \n",
      "605                                  2020   \n",
      "606                              Mar 2022   \n",
      "607                              Mar 2022   \n",
      "\n",
      "                                     Year  \n",
      "12                                   1999  \n",
      "14                                   2001  \n",
      "15                                   2001  \n",
      "16                                   2001  \n",
      "17                                   2000  \n",
      "..                                    ...  \n",
      "603                                  2020  \n",
      "604  GP107-670-A1(N17S-LP-A1)(N17S-G5-A1)  \n",
      "605                                  2020  \n",
      "606                              Mar 2022  \n",
      "607                              Mar 2022  \n",
      "\n",
      "[475 rows x 3 columns]\n"
     ]
    },
    {
     "name": "stderr",
     "output_type": "stream",
     "text": [
      "C:\\Users\\Yusuke Yanagawa\\AppData\\Local\\Temp\\ipykernel_6720\\3528904683.py:1: SettingWithCopyWarning: \n",
      "A value is trying to be set on a copy of a slice from a DataFrame.\n",
      "Try using .loc[row_indexer,col_indexer] = value instead\n",
      "\n",
      "See the caveats in the documentation: https://pandas.pydata.org/pandas-docs/stable/user_guide/indexing.html#returning-a-view-versus-a-copy\n",
      "  geforce_gpu_df['Release Date'] = geforce_gpu_df['Release Date'].str.split(',').str[-1].str.strip()\n"
     ]
    }
   ],
   "source": [
    "geforce_gpu_df['Release Date'] = geforce_gpu_df['Release Date'].str.split(',').str[-1].str.strip()\n",
    "# Displaying the updated DataFrame\n",
    "print(geforce_gpu_df)"
   ]
  },
  {
   "cell_type": "code",
   "execution_count": null,
   "metadata": {},
   "outputs": [],
   "source": []
  }
 ],
 "metadata": {
  "kernelspec": {
   "display_name": "Python 3",
   "language": "python",
   "name": "python3"
  },
  "language_info": {
   "codemirror_mode": {
    "name": "ipython",
    "version": 3
   },
   "file_extension": ".py",
   "mimetype": "text/x-python",
   "name": "python",
   "nbconvert_exporter": "python",
   "pygments_lexer": "ipython3",
   "version": "3.11.6"
  }
 },
 "nbformat": 4,
 "nbformat_minor": 2
}
