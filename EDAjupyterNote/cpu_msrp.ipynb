{
 "cells": [
  {
   "cell_type": "code",
   "execution_count": null,
   "metadata": {},
   "outputs": [
    {
     "ename": "",
     "evalue": "",
     "output_type": "error",
     "traceback": [
      "\u001b[1;31mRunning cells with 'c:\\Users\\Yusuke Yanagawa\\AppData\\Local\\Microsoft\\WindowsApps\\python3.11.exe' requires the ipykernel package.\n",
      "\u001b[1;31mRun the following command to install 'ipykernel' into the Python environment. \n",
      "\u001b[1;31mCommand: '\"c:/Users/Yusuke Yanagawa/AppData/Local/Microsoft/WindowsApps/python3.11.exe\" -m pip install ipykernel -U --user --force-reinstall'"
     ]
    }
   ],
   "source": [
    "import requests\n",
    "from bs4 import BeautifulSoup\n",
    "import pandas as pd\n",
    "\n",
    "cpu_msrp_url = 'https://benchmarks.ul.com/compare/best-cpus'\n",
    "\n",
    "def get_all_pages(url):\n",
    "    pages = []\n",
    "    current_page = 1\n",
    "\n",
    "    while True:\n",
    "        page_url = f'{url}?page={current_page}'\n",
    "        response = requests.get(page_url)\n",
    "\n",
    "        if response.status_code == 200:\n",
    "            pages.append(response.text)\n",
    "            current_page += 1\n",
    "        else:\n",
    "            break\n",
    "\n",
    "    return pages\n",
    "\n",
    "response = requests.get(cpu_msrp_url)\n",
    "\n",
    "if response.status_code == 200:\n",
    "\n",
    "    soup = BeautifulSoup(response.content, 'html.parser')\n",
    "\n",
    "    table = soup.find('table')\n",
    "    if table:\n",
    "        dataset = []\n",
    "        pages = get_all_pages(cpu_msrp_url)\n",
    "        \n",
    "        for page_content in pages:\n",
    "            soup = BeautifulSoup(page_content, 'html.parser')\n",
    "            table = soup.find('table')\n",
    "\n",
    "            for row in table.find_all('tr')[1:]:  \n",
    "                cells = row.find_all('td')\n",
    "                cpu = cells[1].get_text(strip=True)  \n",
    "                cpu_msrp_value = cells[2].get_text(strip=True)  \n",
    "                dataset.append([cpu, cpu_msrp_value])\n",
    "\n",
    "        columns = ['cpu', 'cpu_msrp']\n",
    "        cpu_msrp = pd.DataFrame(dataset, columns=columns)\n",
    "\n",
    "        print(cpu_msrp)\n",
    "    else:\n",
    "        print(\"Error: Unable to find the table on the page.\")\n",
    "else:\n",
    "    print(f\"Error: Unable to retrieve the page. Status code: {response.status_code}\")\n"
   ]
  },
  {
   "cell_type": "code",
   "execution_count": null,
   "metadata": {},
   "outputs": [
    {
     "ename": "",
     "evalue": "",
     "output_type": "error",
     "traceback": [
      "\u001b[1;31mRunning cells with 'c:\\Users\\Yusuke Yanagawa\\AppData\\Local\\Microsoft\\WindowsApps\\python3.11.exe' requires the ipykernel package.\n",
      "\u001b[1;31mRun the following command to install 'ipykernel' into the Python environment. \n",
      "\u001b[1;31mCommand: '\"c:/Users/Yusuke Yanagawa/AppData/Local/Microsoft/WindowsApps/python3.11.exe\" -m pip install ipykernel -U --user --force-reinstall'"
     ]
    }
   ],
   "source": []
  },
  {
   "cell_type": "code",
   "execution_count": null,
   "metadata": {},
   "outputs": [],
   "source": []
  }
 ],
 "metadata": {
  "kernelspec": {
   "display_name": "Python 3",
   "language": "python",
   "name": "python3"
  },
  "language_info": {
   "name": "python",
   "version": "3.11.6"
  }
 },
 "nbformat": 4,
 "nbformat_minor": 2
}
