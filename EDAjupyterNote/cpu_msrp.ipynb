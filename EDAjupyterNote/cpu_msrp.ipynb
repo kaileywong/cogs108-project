{
 "cells": [
  {
   "cell_type": "code",
   "execution_count": 20,
   "metadata": {},
   "outputs": [],
   "source": [
    "import pandas as pd\n",
    "\n",
    "cpu_msrp = pd.read_csv('../data/cpu_msrp_data.csv')"
   ]
  },
  {
   "cell_type": "code",
   "execution_count": 27,
   "metadata": {},
   "outputs": [
    {
     "name": "stdout",
     "output_type": "stream",
     "text": [
      "                           cpu_name cpu_msrp\n",
      "0      AMD Ryzen Threadripper 3990X  $3,990 \n",
      "1      AMD Ryzen Threadripper 3970X  $1,999 \n",
      "2     Intel Core i7-6950X Processor  $1,723 \n",
      "3      AMD Ryzen Threadripper 3960X  $1,399 \n",
      "4     Intel Core i7-5960X Processor    $999 \n",
      "..                              ...      ...\n",
      "125  Intel Core i3-12100F Processor     $99 \n",
      "126                AMD Ryzen 3 3100     $99 \n",
      "127  Intel Core i3-10105F Processor     $97 \n",
      "128  Intel Core i3-10100F Processor     $97 \n",
      "129   Intel Core i3-9100F Processor     $79 \n",
      "\n",
      "[130 rows x 2 columns]\n"
     ]
    }
   ],
   "source": [
    "print(cpu_msrp)"
   ]
  },
  {
   "cell_type": "code",
   "execution_count": 22,
   "metadata": {},
   "outputs": [],
   "source": [
    "cpu_msrp['cpu_msrp'] = np.where(cpu_msrp['cpu_msrp'].str.lower() == 'n/a', np.nan, cpu_msrp['cpu_msrp'])\n",
    "cpu_msrp = cpu_msrp.dropna()"
   ]
  },
  {
   "cell_type": "code",
   "execution_count": 26,
   "metadata": {},
   "outputs": [
    {
     "data": {
      "text/html": [
       "<div>\n",
       "<style scoped>\n",
       "    .dataframe tbody tr th:only-of-type {\n",
       "        vertical-align: middle;\n",
       "    }\n",
       "\n",
       "    .dataframe tbody tr th {\n",
       "        vertical-align: top;\n",
       "    }\n",
       "\n",
       "    .dataframe thead th {\n",
       "        text-align: right;\n",
       "    }\n",
       "</style>\n",
       "<table border=\"1\" class=\"dataframe\">\n",
       "  <thead>\n",
       "    <tr style=\"text-align: right;\">\n",
       "      <th></th>\n",
       "      <th>cpu_name</th>\n",
       "      <th>cpu_msrp</th>\n",
       "    </tr>\n",
       "  </thead>\n",
       "  <tbody>\n",
       "    <tr>\n",
       "      <th>0</th>\n",
       "      <td>AMD Ryzen Threadripper 3990X</td>\n",
       "      <td>$3,990</td>\n",
       "    </tr>\n",
       "    <tr>\n",
       "      <th>1</th>\n",
       "      <td>AMD Ryzen Threadripper 3970X</td>\n",
       "      <td>$1,999</td>\n",
       "    </tr>\n",
       "    <tr>\n",
       "      <th>2</th>\n",
       "      <td>Intel Core i7-6950X Processor</td>\n",
       "      <td>$1,723</td>\n",
       "    </tr>\n",
       "    <tr>\n",
       "      <th>3</th>\n",
       "      <td>AMD Ryzen Threadripper 3960X</td>\n",
       "      <td>$1,399</td>\n",
       "    </tr>\n",
       "    <tr>\n",
       "      <th>4</th>\n",
       "      <td>Intel Core i7-5960X Processor</td>\n",
       "      <td>$999</td>\n",
       "    </tr>\n",
       "  </tbody>\n",
       "</table>\n",
       "</div>"
      ],
      "text/plain": [
       "                        cpu_name cpu_msrp\n",
       "0   AMD Ryzen Threadripper 3990X  $3,990 \n",
       "1   AMD Ryzen Threadripper 3970X  $1,999 \n",
       "2  Intel Core i7-6950X Processor  $1,723 \n",
       "3   AMD Ryzen Threadripper 3960X  $1,399 \n",
       "4  Intel Core i7-5960X Processor    $999 "
      ]
     },
     "execution_count": 26,
     "metadata": {},
     "output_type": "execute_result"
    }
   ],
   "source": [
    "cpu_msrp.head()"
   ]
  },
  {
   "cell_type": "code",
   "execution_count": 25,
   "metadata": {},
   "outputs": [
    {
     "data": {
      "text/plain": [
       "(130, 2)"
      ]
     },
     "execution_count": 25,
     "metadata": {},
     "output_type": "execute_result"
    }
   ],
   "source": [
    "cpu_msrp.shape"
   ]
  }
 ],
 "metadata": {
  "kernelspec": {
   "display_name": "Python 3",
   "language": "python",
   "name": "python3"
  },
  "language_info": {
   "codemirror_mode": {
    "name": "ipython",
    "version": 3
   },
   "file_extension": ".py",
   "mimetype": "text/x-python",
   "name": "python",
   "nbconvert_exporter": "python",
   "pygments_lexer": "ipython3",
   "version": "3.11.6"
  }
 },
 "nbformat": 4,
 "nbformat_minor": 2
}
