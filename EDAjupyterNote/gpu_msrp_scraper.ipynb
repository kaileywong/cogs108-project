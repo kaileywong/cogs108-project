{
 "cells": [
  {
   "cell_type": "code",
   "execution_count": 21,
   "id": "12ce4b1a",
   "metadata": {},
   "outputs": [],
   "source": [
    "import requests\n",
    "from bs4 import BeautifulSoup\n",
    "import pandas as pd\n",
    "\n",
    "url = \"https://www.cgdirector.com/gpu-msrp-list/\"\n",
    "\n",
    "response = requests.get(url)\n",
    "\n",
    "if response.status_code == 200:\n",
    "\n",
    "    soup = BeautifulSoup(response.text, 'html.parser')\n",
    "    table = soup.find('table', {'id': 'tablepress-172'})\n",
    "\n",
    "    rows = []\n",
    "    for row in table.find_all('tr'):\n",
    "        cols = row.find_all(['td', 'th'])\n",
    "        cols = [col.text.strip() for col in cols]\n",
    "        rows.append(cols)\n",
    "\n",
    "    gpu_msrp = pd.DataFrame(rows[:-1][1:], columns=rows[0])\n",
    "\n",
    "else:\n",
    "    print(\"Failed to retrieve webpage.\")"
   ]
  },
  {
   "cell_type": "code",
   "execution_count": 22,
   "id": "da047af5",
   "metadata": {},
   "outputs": [
    {
     "data": {
      "text/html": [
       "<div>\n",
       "<style scoped>\n",
       "    .dataframe tbody tr th:only-of-type {\n",
       "        vertical-align: middle;\n",
       "    }\n",
       "\n",
       "    .dataframe tbody tr th {\n",
       "        vertical-align: top;\n",
       "    }\n",
       "\n",
       "    .dataframe thead th {\n",
       "        text-align: right;\n",
       "    }\n",
       "</style>\n",
       "<table border=\"1\" class=\"dataframe\">\n",
       "  <thead>\n",
       "    <tr style=\"text-align: right;\">\n",
       "      <th></th>\n",
       "      <th>Graphics Card</th>\n",
       "      <th>Launch MSRP (US$)</th>\n",
       "    </tr>\n",
       "  </thead>\n",
       "  <tbody>\n",
       "    <tr>\n",
       "      <th>0</th>\n",
       "      <td>Nvidia RTX 3090 Ti</td>\n",
       "      <td>1999</td>\n",
       "    </tr>\n",
       "    <tr>\n",
       "      <th>1</th>\n",
       "      <td>Nvidia RTX 4090</td>\n",
       "      <td>1599</td>\n",
       "    </tr>\n",
       "    <tr>\n",
       "      <th>2</th>\n",
       "      <td>Nvidia RTX 3090</td>\n",
       "      <td>1499</td>\n",
       "    </tr>\n",
       "    <tr>\n",
       "      <th>3</th>\n",
       "      <td>Nvidia RTX 4080</td>\n",
       "      <td>1199</td>\n",
       "    </tr>\n",
       "    <tr>\n",
       "      <th>4</th>\n",
       "      <td>Nvidia RTX 3080 Ti</td>\n",
       "      <td>1199</td>\n",
       "    </tr>\n",
       "  </tbody>\n",
       "</table>\n",
       "</div>"
      ],
      "text/plain": [
       "        Graphics Card Launch MSRP (US$)\n",
       "0  Nvidia RTX 3090 Ti              1999\n",
       "1     Nvidia RTX 4090              1599\n",
       "2     Nvidia RTX 3090              1499\n",
       "3     Nvidia RTX 4080              1199\n",
       "4  Nvidia RTX 3080 Ti              1199"
      ]
     },
     "execution_count": 22,
     "metadata": {},
     "output_type": "execute_result"
    }
   ],
   "source": [
    "gpu_msrp.head()"
   ]
  },
  {
   "cell_type": "code",
   "execution_count": 23,
   "id": "32116812",
   "metadata": {},
   "outputs": [
    {
     "data": {
      "text/plain": [
       "(57, 2)"
      ]
     },
     "execution_count": 23,
     "metadata": {},
     "output_type": "execute_result"
    }
   ],
   "source": [
    "# Clean up headers and look at shape\n",
    "gpu_msrp.columns = gpu_msrp.columns.str.replace('(US$)','').str.strip().str.lower().str.replace(' ','_')\n",
    "gpu_msrp.shape"
   ]
  }
 ],
 "metadata": {
  "kernelspec": {
   "display_name": "Python 3 (ipykernel)",
   "language": "python",
   "name": "python3"
  },
  "language_info": {
   "codemirror_mode": {
    "name": "ipython",
    "version": 3
   },
   "file_extension": ".py",
   "mimetype": "text/x-python",
   "name": "python",
   "nbconvert_exporter": "python",
   "pygments_lexer": "ipython3",
   "version": "3.11.5"
  }
 },
 "nbformat": 4,
 "nbformat_minor": 5
}
