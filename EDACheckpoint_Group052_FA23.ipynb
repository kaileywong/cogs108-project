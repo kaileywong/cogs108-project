{
 "cells": [
  {
   "cell_type": "markdown",
   "metadata": {},
   "source": [
    "**If you lost points on the last checkpoint you can get them back by responding to TA/IA feedback**  \n",
    "\n",
    "Update/change the relevant sections where you lost those points, make sure you respond on GitHub Issues to your TA/IA to call their attention to the changes you made here.\n",
    "\n",
    "Please update your Timeline... no battle plan survives contact with the enemy, so make sure we understand how your plans have changed."
   ]
  },
  {
   "cell_type": "markdown",
   "metadata": {},
   "source": [
    "# COGS 108 - EDA Checkpoint"
   ]
  },
  {
   "cell_type": "markdown",
   "metadata": {},
   "source": [
    "# Names\n",
    "\n",
    "- Benjamin Xia\n",
    "- Kailey Wong\n",
    "- Jesus Tello\n",
    "- Thor\n",
    "- Wasp"
   ]
  },
  {
   "cell_type": "markdown",
   "metadata": {},
   "source": [
    "# Research Question"
   ]
  },
  {
   "cell_type": "markdown",
   "metadata": {},
   "source": [
    "How much of an impact do cryptocurrency miners/prices actually have on GPU prices and stock for individual customers (e.g. gamers)? Are there any other factors that have had a larger impact (e.g. global chip shortages affecting GPU's and other kinds of chips)?"
   ]
  },
  {
   "cell_type": "markdown",
   "metadata": {},
   "source": [
    "## Background and Prior Work"
   ]
  },
  {
   "cell_type": "markdown",
   "metadata": {},
   "source": [
    "\n",
    "Graphics Processing Units (a.k.a. GPUs, graphics cards, video cards) allow computers to perform parallel computations on a scale that is simply impossible on most traditional processing units (central processing units, a.k.a. CPUs). GPUs have allowed faster data processing, rendering, training for machine learning algorithms, and more. Gaming on a low-spec potato laptop often hinders the smooth play of demanding triple-A titles due to hardware limitations. To cope, users must reduce graphics settings, sacrificing visual quality for better performance. However, some games may still remain unplayable, necessitating the exploration of less demanding titles or an upgrade to a more powerful system. Many game developers are even expecting players to have powerful machines as an excuse not to optimize their games to perform well on lower-end machines properly.<a name=\"cite_ref-1\"></a>[<sup>1</sup>](#cite_note-1) As computer graphics continue to progress and games become more graphically intensive, demand for consumer-grade GPUs such as NVIDIA's Geforce lineup has only grown.\n",
    "\n",
    "When cryptocurrency became mainstream (around 2017), more people started mining cryptocurrencies with consumer-grade GPUs due to their unreasonable effectiveness compared to traditional processors and the lack of supply for ASIC (Application-Specific Integrated Circuit) units specialized for cryptocurrency mining.<a name=\"cite_ref-2\"></a>[<sup>2</sup>](#cite_note-2) Cryptocurrency miners, along with the onset of the pandemic led to GPU supplies dwindling, leading gamers to start blaming cryptocurrency miners for GPU shortages and sky-high pricing by eBay scalpers. Many GPU models, such as the NVIDIA GTX 1000 series and RTX 3000 series, were unavailable at MSRP (Manufacturer's Suggested Retail Price) for months. Gamers' reaction to the GPU market is evident by overall sentiment on online communities such as Reddit.<a name=\"cite_ref-3\"></a>[<sup>3</sup>](#cite_note-3) Vendors have attempted to allow more individual customers to get their hands on these precious GPU's by imposing purchase limits.<a name=\"cite_ref-4\"></a>[<sup>4</sup>](#cite_note-4)\n",
    "\n",
    "The story of how GPU prices skyrocketed has since become a case study in how supply and demand can swiftly decimate a consumer market.<a name=\"cite_ref-5\"></a>[<sup>5</sup>](#cite_note-5)\n",
    "\n",
    "1. <a name=\"cite_note-1\"></a> [^](#cite_ref-1) Crider, Michael (7 Sep 2023) Pre-Crypto Prices When? *PCWorld*. https://www.pcworld.com/article/2058969/trouble-running-starfield-todd-howard-says-upgrade-your-pc.html\n",
    "2. <a name=\"cite_note-2\"></a> [^](#cite_ref-2) Iyer, S.G., Pawar, A. Dipakumar. (28 Feb 2019) GPU and CPU Accelerated Mining of Cryptocurrencies and their Financial Analysis *IEEE*. https://ieeexplore.ieee.org/document/8653733\n",
    "3. <a name=\"cite_note-3\"></a> [^](#cite_ref-3) u/rcmaehl (18 Nov 2018) Pre-Crypto Prices When? *r/pcmasterrace*. https://www.reddit.com/r/pcmasterrace/comments/9ygmux/precrypto_prices_when/\n",
    "4. <a name=\"cite_note-4\"></a> [^](#cite_ref-4) Dent, Steve (11 Feb 2022) Best Buy Limits Sales of NVIDIA RTX-Series GPUs to Totaltech Subscribers. *EnGadget*. https://www.engadget.com/best-buy-gpu-sales-totaltech-membership-paywall-092357559.html\n",
    "5. <a name=\"cite_note-5\"></a> [^](#cite_ref-5) Lim, H.W., Wibowo, T. (12 Apr 2022) Cryptocurrency Mining Effects On Semiconductor Shortage on PC Owner Community. *CoMBInES - Conference On Management, Business, Innovation, Education And Social Sciences*. https://journal.uib.ac.id/index.php/combines/article/view/6634"
   ]
  },
  {
   "cell_type": "markdown",
   "metadata": {},
   "source": [
    "# Hypothesis\n"
   ]
  },
  {
   "cell_type": "markdown",
   "metadata": {},
   "source": [
    "We suspect that cryptocurrency miners do have some impact on GPU prices and supply (in that there is some positive correlation between cryptocurrency prices and GPU prices), though its impact is often exaggerated by gamers on online communities as external factors such as chip (semiconductor) shortages often have a greater impact on price and supply. We believe this to be the case because many vendors often place limits on how many GPU's customers can purchase at at a time, and many of the GPU shortages have happened to coincide with global chip shortages (that were not isolated to GPU's)."
   ]
  },
  {
   "cell_type": "markdown",
   "metadata": {},
   "source": [
    "# Data"
   ]
  },
  {
   "cell_type": "markdown",
   "metadata": {},
   "source": [
    "## Data overview\n",
    "\n",
    "For each dataset include the following information\n",
    "- Dataset #1\n",
    "  - Dataset Name: Steam Hardware Surveys\n",
    "  - Link to the dataset: https://raw.githubusercontent.com/jdegene/steamHWsurvey/master/shs.csv\n",
    "  - Number of observations: 9543\n",
    "  - Number of variables: 5\n",
    "  \n",
    "Each observation in this data set has a date for the date of the survey response, category for the type of hardware the entry is for, the name of the particular product, the percentage change in popularity from the previous month (negative values indicate less popularity, positive more popularity), and the percentage of total items in the category that the particular product makes up. The date, category, and name are strings, and the change and percentage are floats. This data will help us to understand the usage of particular GPU products over time. To wrangle and clean the dataset, we will need to filter the data by dates and the hardware category we are interested in, then check for and drop rows with missing data.\n",
    "\n",
    "- Dataset #2\n",
    "  - Dataset Name: Bitcoin USD Historical Data\n",
    "  - Link to the dataset: https://finance.yahoo.com/quote/BTC-USD/history?period1=1420070400&period2=1698796800&interval=1mo&filter=history&frequency=1mo&includeAdjustedClose=true\n",
    "  - Number of observations: 107\n",
    "  - Number of variables: 7 \n",
    "  \n",
    "Each observation in this data set has a date to indicate what month/year the data corresponds to, the opening price, the highest price during that month, the lowest price during that month, the closing price for that month, an adjusted closing price for splits/dividend/capital gain distributions (all in USD/floats), and volume of stocks traded during that month (integers). This data will help us to understand how bitcoin prices fluctuate overtime. We are able to preselect the dates we are interested in when downloading the csv for the data, so to wrangle and clean the dataset, we only need to check for missing data, and standardize the column headers to make it easier to combine datasets later on.\n",
    "\n",
    "- Dataset #3\n",
    "    - Dataset Name: Ethereum USD Historical Data\n",
    "  - Link to the dataset: https://finance.yahoo.com/quote/ETH-USD/history?period1=1510185600&period2=1698796800&interval=1mo&filter=history&frequency=1mo&includeAdjustedClose=true\n",
    "  - Number of observations: 72\n",
    "  - Number of variables: 7\n",
    "  \n",
    "Same as for bitcoin, each observation in this data set has a date to indicate what month/year the data corresponds to, the opening price, the highest price during that month, the lowest price during that month, the closing price for that month, an adjusted closing price for splits/dividend/capital gain distributions (all in USD/floats), and volume of stocks traded during that month (integers). This data will serve as another proxy to help us to understand how bitcoin prices fluctuate overtime. We are able to preselect the dates we are interested in when downloading the csv for the data, so to wrangle and clean the dataset, we only need to check for missing data, and standardize the column headers to make it easier to combine datasets later on (being able to distinguish between BTC vs ETH data).\n",
    "\n",
    "- Dataset #4\n",
    "  - Dataset Name: Historical CPU sell price/sell volume\n",
    "  - Link to the dataset: Scraped from Ebay Terapeak: https://www.ebay.com/help/selling/selling-tools/terapeak-research?id=4853\n",
    "  - Number of observations: 18527\n",
    "  - Number of variables: 4\n",
    "\n",
    "This was scraped from Ebay Terapeak using the script in our repository `ebay_scraper.py`. Each observation has a UNIX timestamp (which could easily be converted to month/year), model name, along with that CPU model's average sell price each week (in USD) and average count of units sold that week. This data will serve as a proxy to help us understand how GPU and CPU prices and supply have changed over time, and we will take a look at how they relate to each other (CPU vs. GPU prices), and cryptocurrency prices over time. The data we collected is (mostly) clean, though we do need to remove observations that come before a model was released, as an Intel 13700k would obviously have 0 units sold in 2020 as it wasn't even released then. The datatypes are integer timestamps, model names as strings, sell price in USD (integers, though Pandas will interpret them as floats by default), and units sold as integers. \n",
    "\n",
    "- Dataset #5\n",
    "  - Dataset Name: Historical GPU sell price/sell volume\n",
    "  - Link to the dataset: Scraped from Ebay Terapeak: https://www.ebay.com/help/selling/selling-tools/terapeak-research?id=4853\n",
    "  - Number of observations: 6438\n",
    "  - Number of variables: 4\n",
    "\n",
    "Identical format to dataset #4.\n",
    "This was scraped from Ebay Terapeak using the script in our repository `ebay_scraper.py`. Each observation has a UNIX timestamp (which could easily be converted to month/year), model name, along with that GPU model's average sell price each week (in USD) and average count of units sold that week. This data will serve as a proxy to help us understand how GPU and CPU prices and supply have changed over time, and we will take a look at how they relate to each other (CPU vs. GPU prices), and cryptocurrency prices over time. The data we collected is (mostly) clean, though we do need to remove observations that come before a model was released, as an RTX 4080 would obviously have 0 units sold in 2020 as it wasn't even released then. The datatypes are integer timestamps, model names as strings, sell price in USD (integers, though Pandas will interpret them as floats by default), and units sold as integers. \n",
    "\n",
    "\n",
    "To combine these datasets, we will take their intersection based on the dates. We may need to combine observations from our CPU and GPU data to be monthly in order to accomplish this (though this may not be completely necessary). Once the data is all \"synced\" up, we can combine different kinds of data into a signle table for finer-grained analysis of different variables.\n"
   ]
  },
  {
   "cell_type": "code",
   "execution_count": 83,
   "metadata": {},
   "outputs": [],
   "source": [
    "import numpy as np\n",
    "import pandas as pd\n",
    "from datetime import datetime\n",
    "\n",
    "import matplotlib.pyplot as plt\n",
    "import seaborn as sns"
   ]
  },
  {
   "cell_type": "markdown",
   "metadata": {},
   "source": [
    "## Historical Steam Hardware Survey"
   ]
  },
  {
   "cell_type": "code",
   "execution_count": 41,
   "metadata": {},
   "outputs": [
    {
     "data": {
      "text/html": [
       "<div>\n",
       "<style scoped>\n",
       "    .dataframe tbody tr th:only-of-type {\n",
       "        vertical-align: middle;\n",
       "    }\n",
       "\n",
       "    .dataframe tbody tr th {\n",
       "        vertical-align: top;\n",
       "    }\n",
       "\n",
       "    .dataframe thead th {\n",
       "        text-align: right;\n",
       "    }\n",
       "</style>\n",
       "<table border=\"1\" class=\"dataframe\">\n",
       "  <thead>\n",
       "    <tr style=\"text-align: right;\">\n",
       "      <th></th>\n",
       "      <th>date</th>\n",
       "      <th>category</th>\n",
       "      <th>name</th>\n",
       "      <th>change</th>\n",
       "      <th>percentage</th>\n",
       "    </tr>\n",
       "  </thead>\n",
       "  <tbody>\n",
       "    <tr>\n",
       "      <th>0</th>\n",
       "      <td>2008-11-01</td>\n",
       "      <td>AMD CPU Speeds</td>\n",
       "      <td>1.4 Ghz to 1.49 Ghz</td>\n",
       "      <td>-0.0004</td>\n",
       "      <td>0.0036</td>\n",
       "    </tr>\n",
       "    <tr>\n",
       "      <th>1</th>\n",
       "      <td>2008-11-01</td>\n",
       "      <td>AMD CPU Speeds</td>\n",
       "      <td>1.5 Ghz to 1.69 Ghz</td>\n",
       "      <td>-0.0025</td>\n",
       "      <td>0.0224</td>\n",
       "    </tr>\n",
       "    <tr>\n",
       "      <th>2</th>\n",
       "      <td>2008-11-01</td>\n",
       "      <td>AMD CPU Speeds</td>\n",
       "      <td>1.7 Ghz to 1.99 Ghz</td>\n",
       "      <td>-0.0024</td>\n",
       "      <td>0.0714</td>\n",
       "    </tr>\n",
       "    <tr>\n",
       "      <th>3</th>\n",
       "      <td>2008-11-01</td>\n",
       "      <td>AMD CPU Speeds</td>\n",
       "      <td>2.0 Ghz to 2.29 Ghz</td>\n",
       "      <td>-0.0040</td>\n",
       "      <td>0.1343</td>\n",
       "    </tr>\n",
       "    <tr>\n",
       "      <th>4</th>\n",
       "      <td>2008-11-01</td>\n",
       "      <td>AMD CPU Speeds</td>\n",
       "      <td>2.3 Ghz to 2.69 Ghz</td>\n",
       "      <td>0.0001</td>\n",
       "      <td>0.0727</td>\n",
       "    </tr>\n",
       "  </tbody>\n",
       "</table>\n",
       "</div>"
      ],
      "text/plain": [
       "         date        category                 name  change  percentage\n",
       "0  2008-11-01  AMD CPU Speeds  1.4 Ghz to 1.49 Ghz -0.0004      0.0036\n",
       "1  2008-11-01  AMD CPU Speeds  1.5 Ghz to 1.69 Ghz -0.0025      0.0224\n",
       "2  2008-11-01  AMD CPU Speeds  1.7 Ghz to 1.99 Ghz -0.0024      0.0714\n",
       "3  2008-11-01  AMD CPU Speeds  2.0 Ghz to 2.29 Ghz -0.0040      0.1343\n",
       "4  2008-11-01  AMD CPU Speeds  2.3 Ghz to 2.69 Ghz  0.0001      0.0727"
      ]
     },
     "execution_count": 41,
     "metadata": {},
     "output_type": "execute_result"
    }
   ],
   "source": [
    "# Load the data\n",
    "steam_survey = pd.read_csv('https://raw.githubusercontent.com/jdegene/steamHWsurvey/master/shs.csv')\n",
    "\n",
    "# Check out the data\n",
    "steam_survey.head()"
   ]
  },
  {
   "cell_type": "code",
   "execution_count": 42,
   "metadata": {},
   "outputs": [
    {
     "data": {
      "text/html": [
       "<div>\n",
       "<style scoped>\n",
       "    .dataframe tbody tr th:only-of-type {\n",
       "        vertical-align: middle;\n",
       "    }\n",
       "\n",
       "    .dataframe tbody tr th {\n",
       "        vertical-align: top;\n",
       "    }\n",
       "\n",
       "    .dataframe thead th {\n",
       "        text-align: right;\n",
       "    }\n",
       "</style>\n",
       "<table border=\"1\" class=\"dataframe\">\n",
       "  <thead>\n",
       "    <tr style=\"text-align: right;\">\n",
       "      <th></th>\n",
       "      <th>date</th>\n",
       "      <th>category</th>\n",
       "      <th>name</th>\n",
       "      <th>change</th>\n",
       "      <th>percentage</th>\n",
       "    </tr>\n",
       "  </thead>\n",
       "  <tbody>\n",
       "    <tr>\n",
       "      <th>0</th>\n",
       "      <td>2015-01-01</td>\n",
       "      <td>Free Hard Drive Space</td>\n",
       "      <td>10 GB to  99 GB</td>\n",
       "      <td>-0.0029</td>\n",
       "      <td>0.2012</td>\n",
       "    </tr>\n",
       "    <tr>\n",
       "      <th>1</th>\n",
       "      <td>2015-01-01</td>\n",
       "      <td>Free Hard Drive Space</td>\n",
       "      <td>100 GB to 249 GB</td>\n",
       "      <td>-0.0006</td>\n",
       "      <td>0.2468</td>\n",
       "    </tr>\n",
       "    <tr>\n",
       "      <th>2</th>\n",
       "      <td>2015-01-01</td>\n",
       "      <td>Free Hard Drive Space</td>\n",
       "      <td>250 GB to 499 GB</td>\n",
       "      <td>-0.0008</td>\n",
       "      <td>0.2608</td>\n",
       "    </tr>\n",
       "    <tr>\n",
       "      <th>3</th>\n",
       "      <td>2015-01-01</td>\n",
       "      <td>Free Hard Drive Space</td>\n",
       "      <td>500 GB to 749 GB</td>\n",
       "      <td>0.0015</td>\n",
       "      <td>0.1232</td>\n",
       "    </tr>\n",
       "    <tr>\n",
       "      <th>4</th>\n",
       "      <td>2015-01-01</td>\n",
       "      <td>Free Hard Drive Space</td>\n",
       "      <td>750 GB to 999 GB</td>\n",
       "      <td>0.0020</td>\n",
       "      <td>0.0879</td>\n",
       "    </tr>\n",
       "  </tbody>\n",
       "</table>\n",
       "</div>"
      ],
      "text/plain": [
       "         date               category              name  change  percentage\n",
       "0  2015-01-01  Free Hard Drive Space   10 GB to  99 GB -0.0029      0.2012\n",
       "1  2015-01-01  Free Hard Drive Space  100 GB to 249 GB -0.0006      0.2468\n",
       "2  2015-01-01  Free Hard Drive Space  250 GB to 499 GB -0.0008      0.2608\n",
       "3  2015-01-01  Free Hard Drive Space  500 GB to 749 GB  0.0015      0.1232\n",
       "4  2015-01-01  Free Hard Drive Space  750 GB to 999 GB  0.0020      0.0879"
      ]
     },
     "execution_count": 42,
     "metadata": {},
     "output_type": "execute_result"
    }
   ],
   "source": [
    "# Filter the survey responses by date\n",
    "# We will only be looking at data from the last 8 years, or since 2015\n",
    "# Reset the indexes\n",
    "steam_dates = steam_survey[pd.to_datetime(steam_survey['date']).dt.year >= 2015].reset_index().drop(labels='index',axis=1)\n",
    "steam_dates.head()"
   ]
  },
  {
   "cell_type": "code",
   "execution_count": 43,
   "metadata": {},
   "outputs": [
    {
     "data": {
      "text/plain": [
       "Video Card Description              9599\n",
       "Multi-Monitor Desktop Resolution    5645\n",
       "Language                            2987\n",
       "Primary Display Resolution          2422\n",
       "Physical CPUs                       2327\n",
       "OS Version                          2174\n",
       "Other Settings                      1741\n",
       "System RAM                          1516\n",
       "VRAM                                1347\n",
       "VR Headsets                         1182\n",
       "Intel CPU Speeds                    1067\n",
       "Free Hard Drive Space                999\n",
       "Total Hard Drive Space               820\n",
       "Network Speed                        656\n",
       "Microphones                          231\n",
       "Name: category, dtype: int64"
      ]
     },
     "execution_count": 43,
     "metadata": {},
     "output_type": "execute_result"
    }
   ],
   "source": [
    "# What types of categories are in this dataset?\n",
    "steam_dates['category'].value_counts()"
   ]
  },
  {
   "cell_type": "code",
   "execution_count": 44,
   "metadata": {},
   "outputs": [
    {
     "data": {
      "text/plain": [
       "Video Card Description    9599\n",
       "Name: category, dtype: int64"
      ]
     },
     "execution_count": 44,
     "metadata": {},
     "output_type": "execute_result"
    }
   ],
   "source": [
    "# We only care about GPU data\n",
    "steam_gpu = steam_dates[steam_dates['category'] == 'Video Card Description']\n",
    "\n",
    "steam_gpu['category'].value_counts()"
   ]
  },
  {
   "cell_type": "code",
   "execution_count": 45,
   "metadata": {},
   "outputs": [
    {
     "data": {
      "text/html": [
       "<div>\n",
       "<style scoped>\n",
       "    .dataframe tbody tr th:only-of-type {\n",
       "        vertical-align: middle;\n",
       "    }\n",
       "\n",
       "    .dataframe tbody tr th {\n",
       "        vertical-align: top;\n",
       "    }\n",
       "\n",
       "    .dataframe thead th {\n",
       "        text-align: right;\n",
       "    }\n",
       "</style>\n",
       "<table border=\"1\" class=\"dataframe\">\n",
       "  <thead>\n",
       "    <tr style=\"text-align: right;\">\n",
       "      <th></th>\n",
       "      <th>date</th>\n",
       "      <th>category</th>\n",
       "      <th>name</th>\n",
       "      <th>change</th>\n",
       "      <th>percentage</th>\n",
       "    </tr>\n",
       "  </thead>\n",
       "  <tbody>\n",
       "    <tr>\n",
       "      <th>14389</th>\n",
       "      <td>2018-09-01</td>\n",
       "      <td>Video Card Description</td>\n",
       "      <td>NaN</td>\n",
       "      <td>0.0021</td>\n",
       "      <td>0.0021</td>\n",
       "    </tr>\n",
       "    <tr>\n",
       "      <th>14707</th>\n",
       "      <td>2018-10-01</td>\n",
       "      <td>Video Card Description</td>\n",
       "      <td>NaN</td>\n",
       "      <td>-0.0002</td>\n",
       "      <td>0.0019</td>\n",
       "    </tr>\n",
       "    <tr>\n",
       "      <th>15035</th>\n",
       "      <td>2018-11-01</td>\n",
       "      <td>Video Card Description</td>\n",
       "      <td>NaN</td>\n",
       "      <td>0.0002</td>\n",
       "      <td>0.0021</td>\n",
       "    </tr>\n",
       "    <tr>\n",
       "      <th>15369</th>\n",
       "      <td>2018-12-01</td>\n",
       "      <td>Video Card Description</td>\n",
       "      <td>NaN</td>\n",
       "      <td>0.0002</td>\n",
       "      <td>0.0023</td>\n",
       "    </tr>\n",
       "    <tr>\n",
       "      <th>15699</th>\n",
       "      <td>2019-01-01</td>\n",
       "      <td>Video Card Description</td>\n",
       "      <td>NaN</td>\n",
       "      <td>0.0001</td>\n",
       "      <td>0.0024</td>\n",
       "    </tr>\n",
       "  </tbody>\n",
       "</table>\n",
       "</div>"
      ],
      "text/plain": [
       "             date                category name  change  percentage\n",
       "14389  2018-09-01  Video Card Description  NaN  0.0021      0.0021\n",
       "14707  2018-10-01  Video Card Description  NaN -0.0002      0.0019\n",
       "15035  2018-11-01  Video Card Description  NaN  0.0002      0.0021\n",
       "15369  2018-12-01  Video Card Description  NaN  0.0002      0.0023\n",
       "15699  2019-01-01  Video Card Description  NaN  0.0001      0.0024"
      ]
     },
     "execution_count": 45,
     "metadata": {},
     "output_type": "execute_result"
    }
   ],
   "source": [
    "# check if there is any missing data\n",
    "steam_gpu[steam_gpu.isnull().any(axis=1)].head()"
   ]
  },
  {
   "cell_type": "code",
   "execution_count": 46,
   "metadata": {},
   "outputs": [
    {
     "data": {
      "text/html": [
       "<div>\n",
       "<style scoped>\n",
       "    .dataframe tbody tr th:only-of-type {\n",
       "        vertical-align: middle;\n",
       "    }\n",
       "\n",
       "    .dataframe tbody tr th {\n",
       "        vertical-align: top;\n",
       "    }\n",
       "\n",
       "    .dataframe thead th {\n",
       "        text-align: right;\n",
       "    }\n",
       "</style>\n",
       "<table border=\"1\" class=\"dataframe\">\n",
       "  <thead>\n",
       "    <tr style=\"text-align: right;\">\n",
       "      <th></th>\n",
       "      <th>date</th>\n",
       "      <th>category</th>\n",
       "      <th>name</th>\n",
       "      <th>change</th>\n",
       "      <th>percentage</th>\n",
       "    </tr>\n",
       "  </thead>\n",
       "  <tbody>\n",
       "    <tr>\n",
       "      <th>292</th>\n",
       "      <td>2015-01-01</td>\n",
       "      <td>Video Card Description</td>\n",
       "      <td>AMD Radeon HD 4350</td>\n",
       "      <td>0.0025</td>\n",
       "      <td>0.0025</td>\n",
       "    </tr>\n",
       "    <tr>\n",
       "      <th>293</th>\n",
       "      <td>2015-01-01</td>\n",
       "      <td>Video Card Description</td>\n",
       "      <td>AMD Radeon HD 4650</td>\n",
       "      <td>0.0029</td>\n",
       "      <td>0.0029</td>\n",
       "    </tr>\n",
       "    <tr>\n",
       "      <th>294</th>\n",
       "      <td>2015-01-01</td>\n",
       "      <td>Video Card Description</td>\n",
       "      <td>AMD Radeon HD 4670</td>\n",
       "      <td>0.0024</td>\n",
       "      <td>0.0024</td>\n",
       "    </tr>\n",
       "    <tr>\n",
       "      <th>295</th>\n",
       "      <td>2015-01-01</td>\n",
       "      <td>Video Card Description</td>\n",
       "      <td>AMD Radeon HD 4850</td>\n",
       "      <td>0.0026</td>\n",
       "      <td>0.0026</td>\n",
       "    </tr>\n",
       "    <tr>\n",
       "      <th>296</th>\n",
       "      <td>2015-01-01</td>\n",
       "      <td>Video Card Description</td>\n",
       "      <td>AMD Radeon HD 4870</td>\n",
       "      <td>0.0016</td>\n",
       "      <td>0.0016</td>\n",
       "    </tr>\n",
       "    <tr>\n",
       "      <th>...</th>\n",
       "      <td>...</td>\n",
       "      <td>...</td>\n",
       "      <td>...</td>\n",
       "      <td>...</td>\n",
       "      <td>...</td>\n",
       "    </tr>\n",
       "    <tr>\n",
       "      <th>34708</th>\n",
       "      <td>2023-10-01</td>\n",
       "      <td>Video Card Description</td>\n",
       "      <td>NVIDIA GeForce RTX 4070 Laptop GPU</td>\n",
       "      <td>-0.0003</td>\n",
       "      <td>0.0016</td>\n",
       "    </tr>\n",
       "    <tr>\n",
       "      <th>34709</th>\n",
       "      <td>2023-10-01</td>\n",
       "      <td>Video Card Description</td>\n",
       "      <td>NVIDIA GeForce RTX 4070 Ti</td>\n",
       "      <td>0.0005</td>\n",
       "      <td>0.0090</td>\n",
       "    </tr>\n",
       "    <tr>\n",
       "      <th>34710</th>\n",
       "      <td>2023-10-01</td>\n",
       "      <td>Video Card Description</td>\n",
       "      <td>NVIDIA GeForce RTX 4080</td>\n",
       "      <td>0.0011</td>\n",
       "      <td>0.0062</td>\n",
       "    </tr>\n",
       "    <tr>\n",
       "      <th>34711</th>\n",
       "      <td>2023-10-01</td>\n",
       "      <td>Video Card Description</td>\n",
       "      <td>NVIDIA GeForce RTX 4090</td>\n",
       "      <td>-0.0010</td>\n",
       "      <td>0.0061</td>\n",
       "    </tr>\n",
       "    <tr>\n",
       "      <th>34712</th>\n",
       "      <td>2023-10-01</td>\n",
       "      <td>Video Card Description</td>\n",
       "      <td>Other</td>\n",
       "      <td>-0.0067</td>\n",
       "      <td>0.0956</td>\n",
       "    </tr>\n",
       "  </tbody>\n",
       "</table>\n",
       "<p>9543 rows × 5 columns</p>\n",
       "</div>"
      ],
      "text/plain": [
       "             date                category                                name  \\\n",
       "292    2015-01-01  Video Card Description                  AMD Radeon HD 4350   \n",
       "293    2015-01-01  Video Card Description                  AMD Radeon HD 4650   \n",
       "294    2015-01-01  Video Card Description                  AMD Radeon HD 4670   \n",
       "295    2015-01-01  Video Card Description                  AMD Radeon HD 4850   \n",
       "296    2015-01-01  Video Card Description                  AMD Radeon HD 4870   \n",
       "...           ...                     ...                                 ...   \n",
       "34708  2023-10-01  Video Card Description  NVIDIA GeForce RTX 4070 Laptop GPU   \n",
       "34709  2023-10-01  Video Card Description          NVIDIA GeForce RTX 4070 Ti   \n",
       "34710  2023-10-01  Video Card Description             NVIDIA GeForce RTX 4080   \n",
       "34711  2023-10-01  Video Card Description             NVIDIA GeForce RTX 4090   \n",
       "34712  2023-10-01  Video Card Description                               Other   \n",
       "\n",
       "       change  percentage  \n",
       "292    0.0025      0.0025  \n",
       "293    0.0029      0.0029  \n",
       "294    0.0024      0.0024  \n",
       "295    0.0026      0.0026  \n",
       "296    0.0016      0.0016  \n",
       "...       ...         ...  \n",
       "34708 -0.0003      0.0016  \n",
       "34709  0.0005      0.0090  \n",
       "34710  0.0011      0.0062  \n",
       "34711 -0.0010      0.0061  \n",
       "34712 -0.0067      0.0956  \n",
       "\n",
       "[9543 rows x 5 columns]"
      ]
     },
     "execution_count": 46,
     "metadata": {},
     "output_type": "execute_result"
    }
   ],
   "source": [
    "# Drop any missing data\n",
    "steam_gpu = steam_gpu.dropna()\n",
    "\n",
    "assert steam_gpu[steam_gpu.isnull().any(axis=1)].shape == (0,5)\n",
    "steam_gpu"
   ]
  },
  {
   "cell_type": "code",
   "execution_count": 47,
   "metadata": {},
   "outputs": [
    {
     "data": {
      "text/plain": [
       "2813     0.9529\n",
       "1318     0.9482\n",
       "720      0.9481\n",
       "1015     0.9464\n",
       "10810    0.7991\n",
       "19264    0.1579\n",
       "16966    0.1569\n",
       "16642    0.1569\n",
       "8366     0.1555\n",
       "17287    0.1550\n",
       "Name: percentage, dtype: float64"
      ]
     },
     "execution_count": 47,
     "metadata": {},
     "output_type": "execute_result"
    }
   ],
   "source": [
    "# Hmm, there seems to be some outliers where a bunch of entries got bunched with 'Other'\n",
    "steam_gpu['percentage'].sort_values(ascending=False)[:10]"
   ]
  },
  {
   "cell_type": "code",
   "execution_count": 48,
   "metadata": {},
   "outputs": [],
   "source": [
    "# Remove outlier entries\n",
    "steam_gpu = steam_gpu[~steam_gpu['date'].isin(steam_gpu[(steam_gpu['name'] == 'Other') & (steam_gpu['percentage'] > 0.5)]['date'])]\n",
    "# What is the shape of this data set?\n",
    "steam_gpu.shape"
   ]
  },
  {
   "cell_type": "markdown",
   "metadata": {},
   "source": [
    "## Bitcoin Historical Prices"
   ]
  },
  {
   "cell_type": "code",
   "execution_count": 50,
   "metadata": {},
   "outputs": [
    {
     "data": {
      "text/html": [
       "<div>\n",
       "<style scoped>\n",
       "    .dataframe tbody tr th:only-of-type {\n",
       "        vertical-align: middle;\n",
       "    }\n",
       "\n",
       "    .dataframe tbody tr th {\n",
       "        vertical-align: top;\n",
       "    }\n",
       "\n",
       "    .dataframe thead th {\n",
       "        text-align: right;\n",
       "    }\n",
       "</style>\n",
       "<table border=\"1\" class=\"dataframe\">\n",
       "  <thead>\n",
       "    <tr style=\"text-align: right;\">\n",
       "      <th></th>\n",
       "      <th>Date</th>\n",
       "      <th>Open</th>\n",
       "      <th>High</th>\n",
       "      <th>Low</th>\n",
       "      <th>Close</th>\n",
       "      <th>Adj Close</th>\n",
       "      <th>Volume</th>\n",
       "    </tr>\n",
       "  </thead>\n",
       "  <tbody>\n",
       "    <tr>\n",
       "      <th>0</th>\n",
       "      <td>2015-01-01</td>\n",
       "      <td>320.434998</td>\n",
       "      <td>320.434998</td>\n",
       "      <td>171.509995</td>\n",
       "      <td>217.464005</td>\n",
       "      <td>217.464005</td>\n",
       "      <td>1098811912</td>\n",
       "    </tr>\n",
       "    <tr>\n",
       "      <th>1</th>\n",
       "      <td>2015-02-01</td>\n",
       "      <td>216.867004</td>\n",
       "      <td>265.610992</td>\n",
       "      <td>212.014999</td>\n",
       "      <td>254.263000</td>\n",
       "      <td>254.263000</td>\n",
       "      <td>711518700</td>\n",
       "    </tr>\n",
       "    <tr>\n",
       "      <th>2</th>\n",
       "      <td>2015-03-01</td>\n",
       "      <td>254.283005</td>\n",
       "      <td>300.044006</td>\n",
       "      <td>236.514999</td>\n",
       "      <td>244.223999</td>\n",
       "      <td>244.223999</td>\n",
       "      <td>959098300</td>\n",
       "    </tr>\n",
       "    <tr>\n",
       "      <th>3</th>\n",
       "      <td>2015-04-01</td>\n",
       "      <td>244.223007</td>\n",
       "      <td>261.798004</td>\n",
       "      <td>214.873993</td>\n",
       "      <td>236.145004</td>\n",
       "      <td>236.145004</td>\n",
       "      <td>672338700</td>\n",
       "    </tr>\n",
       "    <tr>\n",
       "      <th>4</th>\n",
       "      <td>2015-05-01</td>\n",
       "      <td>235.938995</td>\n",
       "      <td>247.804001</td>\n",
       "      <td>228.572998</td>\n",
       "      <td>230.190002</td>\n",
       "      <td>230.190002</td>\n",
       "      <td>568122600</td>\n",
       "    </tr>\n",
       "  </tbody>\n",
       "</table>\n",
       "</div>"
      ],
      "text/plain": [
       "         Date        Open        High         Low       Close   Adj Close  \\\n",
       "0  2015-01-01  320.434998  320.434998  171.509995  217.464005  217.464005   \n",
       "1  2015-02-01  216.867004  265.610992  212.014999  254.263000  254.263000   \n",
       "2  2015-03-01  254.283005  300.044006  236.514999  244.223999  244.223999   \n",
       "3  2015-04-01  244.223007  261.798004  214.873993  236.145004  236.145004   \n",
       "4  2015-05-01  235.938995  247.804001  228.572998  230.190002  230.190002   \n",
       "\n",
       "       Volume  \n",
       "0  1098811912  \n",
       "1   711518700  \n",
       "2   959098300  \n",
       "3   672338700  \n",
       "4   568122600  "
      ]
     },
     "execution_count": 50,
     "metadata": {},
     "output_type": "execute_result"
    }
   ],
   "source": [
    "# Load the data\n",
    "bitcoin = pd.read_csv('./data/BTC-USD.csv')\n",
    "\n",
    "# Check out the data\n",
    "bitcoin.head()"
   ]
  },
  {
   "cell_type": "code",
   "execution_count": 51,
   "metadata": {},
   "outputs": [],
   "source": [
    "# check if there is any missing data\n",
    "assert bitcoin[bitcoin.isnull().any(axis=1)].shape == (0,7)\n",
    "# What is the shape of this data set?\n",
    "bitcoin.shape"
   ]
  },
  {
   "cell_type": "code",
   "execution_count": 53,
   "metadata": {},
   "outputs": [
    {
     "data": {
      "text/html": [
       "<div>\n",
       "<style scoped>\n",
       "    .dataframe tbody tr th:only-of-type {\n",
       "        vertical-align: middle;\n",
       "    }\n",
       "\n",
       "    .dataframe tbody tr th {\n",
       "        vertical-align: top;\n",
       "    }\n",
       "\n",
       "    .dataframe thead th {\n",
       "        text-align: right;\n",
       "    }\n",
       "</style>\n",
       "<table border=\"1\" class=\"dataframe\">\n",
       "  <thead>\n",
       "    <tr style=\"text-align: right;\">\n",
       "      <th></th>\n",
       "      <th>btc_date</th>\n",
       "      <th>btc_open</th>\n",
       "      <th>btc_high</th>\n",
       "      <th>btc_low</th>\n",
       "      <th>btc_close</th>\n",
       "      <th>btc_adj close</th>\n",
       "      <th>btc_volume</th>\n",
       "      <th>btc_currency</th>\n",
       "    </tr>\n",
       "  </thead>\n",
       "  <tbody>\n",
       "    <tr>\n",
       "      <th>0</th>\n",
       "      <td>2015-01-01</td>\n",
       "      <td>320.434998</td>\n",
       "      <td>320.434998</td>\n",
       "      <td>171.509995</td>\n",
       "      <td>217.464005</td>\n",
       "      <td>217.464005</td>\n",
       "      <td>1098811912</td>\n",
       "      <td>BTC</td>\n",
       "    </tr>\n",
       "    <tr>\n",
       "      <th>1</th>\n",
       "      <td>2015-02-01</td>\n",
       "      <td>216.867004</td>\n",
       "      <td>265.610992</td>\n",
       "      <td>212.014999</td>\n",
       "      <td>254.263000</td>\n",
       "      <td>254.263000</td>\n",
       "      <td>711518700</td>\n",
       "      <td>BTC</td>\n",
       "    </tr>\n",
       "    <tr>\n",
       "      <th>2</th>\n",
       "      <td>2015-03-01</td>\n",
       "      <td>254.283005</td>\n",
       "      <td>300.044006</td>\n",
       "      <td>236.514999</td>\n",
       "      <td>244.223999</td>\n",
       "      <td>244.223999</td>\n",
       "      <td>959098300</td>\n",
       "      <td>BTC</td>\n",
       "    </tr>\n",
       "    <tr>\n",
       "      <th>3</th>\n",
       "      <td>2015-04-01</td>\n",
       "      <td>244.223007</td>\n",
       "      <td>261.798004</td>\n",
       "      <td>214.873993</td>\n",
       "      <td>236.145004</td>\n",
       "      <td>236.145004</td>\n",
       "      <td>672338700</td>\n",
       "      <td>BTC</td>\n",
       "    </tr>\n",
       "    <tr>\n",
       "      <th>4</th>\n",
       "      <td>2015-05-01</td>\n",
       "      <td>235.938995</td>\n",
       "      <td>247.804001</td>\n",
       "      <td>228.572998</td>\n",
       "      <td>230.190002</td>\n",
       "      <td>230.190002</td>\n",
       "      <td>568122600</td>\n",
       "      <td>BTC</td>\n",
       "    </tr>\n",
       "  </tbody>\n",
       "</table>\n",
       "</div>"
      ],
      "text/plain": [
       "     btc_date    btc_open    btc_high     btc_low   btc_close  btc_adj close  \\\n",
       "0  2015-01-01  320.434998  320.434998  171.509995  217.464005     217.464005   \n",
       "1  2015-02-01  216.867004  265.610992  212.014999  254.263000     254.263000   \n",
       "2  2015-03-01  254.283005  300.044006  236.514999  244.223999     244.223999   \n",
       "3  2015-04-01  244.223007  261.798004  214.873993  236.145004     236.145004   \n",
       "4  2015-05-01  235.938995  247.804001  228.572998  230.190002     230.190002   \n",
       "\n",
       "   btc_volume btc_currency  \n",
       "0  1098811912          BTC  \n",
       "1   711518700          BTC  \n",
       "2   959098300          BTC  \n",
       "3   672338700          BTC  \n",
       "4   568122600          BTC  "
      ]
     },
     "execution_count": 53,
     "metadata": {},
     "output_type": "execute_result"
    }
   ],
   "source": [
    "# Standardize column headers to lower case and add btc prefix\n",
    "bitcoin['currency'] = \"BTC\"\n",
    "bitcoin.columns = bitcoin.columns.str.lower()\n",
    "bitcoin = bitcoin.add_prefix(\"btc_\")\n",
    "bitcoin.head()"
   ]
  },
  {
   "cell_type": "markdown",
   "metadata": {},
   "source": [
    "## Ethereum Historical Prices"
   ]
  },
  {
   "cell_type": "code",
   "execution_count": 54,
   "metadata": {},
   "outputs": [
    {
     "data": {
      "text/html": [
       "<div>\n",
       "<style scoped>\n",
       "    .dataframe tbody tr th:only-of-type {\n",
       "        vertical-align: middle;\n",
       "    }\n",
       "\n",
       "    .dataframe tbody tr th {\n",
       "        vertical-align: top;\n",
       "    }\n",
       "\n",
       "    .dataframe thead th {\n",
       "        text-align: right;\n",
       "    }\n",
       "</style>\n",
       "<table border=\"1\" class=\"dataframe\">\n",
       "  <thead>\n",
       "    <tr style=\"text-align: right;\">\n",
       "      <th></th>\n",
       "      <th>Date</th>\n",
       "      <th>Open</th>\n",
       "      <th>High</th>\n",
       "      <th>Low</th>\n",
       "      <th>Close</th>\n",
       "      <th>Adj Close</th>\n",
       "      <th>Volume</th>\n",
       "    </tr>\n",
       "  </thead>\n",
       "  <tbody>\n",
       "    <tr>\n",
       "      <th>0</th>\n",
       "      <td>2017-12-01</td>\n",
       "      <td>445.209015</td>\n",
       "      <td>881.943970</td>\n",
       "      <td>414.411011</td>\n",
       "      <td>756.732971</td>\n",
       "      <td>756.732971</td>\n",
       "      <td>79862276544</td>\n",
       "    </tr>\n",
       "    <tr>\n",
       "      <th>1</th>\n",
       "      <td>2018-01-01</td>\n",
       "      <td>755.757019</td>\n",
       "      <td>1432.880005</td>\n",
       "      <td>742.004028</td>\n",
       "      <td>1118.310059</td>\n",
       "      <td>1118.310059</td>\n",
       "      <td>163610220288</td>\n",
       "    </tr>\n",
       "    <tr>\n",
       "      <th>2</th>\n",
       "      <td>2018-02-01</td>\n",
       "      <td>1119.369995</td>\n",
       "      <td>1161.349976</td>\n",
       "      <td>574.419006</td>\n",
       "      <td>855.198975</td>\n",
       "      <td>855.198975</td>\n",
       "      <td>83393441152</td>\n",
       "    </tr>\n",
       "    <tr>\n",
       "      <th>3</th>\n",
       "      <td>2018-03-01</td>\n",
       "      <td>856.012024</td>\n",
       "      <td>880.302002</td>\n",
       "      <td>368.632996</td>\n",
       "      <td>396.457001</td>\n",
       "      <td>396.457001</td>\n",
       "      <td>53716179584</td>\n",
       "    </tr>\n",
       "    <tr>\n",
       "      <th>4</th>\n",
       "      <td>2018-04-01</td>\n",
       "      <td>397.253998</td>\n",
       "      <td>708.875000</td>\n",
       "      <td>363.804993</td>\n",
       "      <td>669.924011</td>\n",
       "      <td>669.924011</td>\n",
       "      <td>60669918656</td>\n",
       "    </tr>\n",
       "  </tbody>\n",
       "</table>\n",
       "</div>"
      ],
      "text/plain": [
       "         Date         Open         High         Low        Close    Adj Close  \\\n",
       "0  2017-12-01   445.209015   881.943970  414.411011   756.732971   756.732971   \n",
       "1  2018-01-01   755.757019  1432.880005  742.004028  1118.310059  1118.310059   \n",
       "2  2018-02-01  1119.369995  1161.349976  574.419006   855.198975   855.198975   \n",
       "3  2018-03-01   856.012024   880.302002  368.632996   396.457001   396.457001   \n",
       "4  2018-04-01   397.253998   708.875000  363.804993   669.924011   669.924011   \n",
       "\n",
       "         Volume  \n",
       "0   79862276544  \n",
       "1  163610220288  \n",
       "2   83393441152  \n",
       "3   53716179584  \n",
       "4   60669918656  "
      ]
     },
     "execution_count": 54,
     "metadata": {},
     "output_type": "execute_result"
    }
   ],
   "source": [
    "# Load the data\n",
    "ethereum = pd.read_csv('./data/ETH-USD.csv')\n",
    "\n",
    "# Check out the data\n",
    "ethereum.head()"
   ]
  },
  {
   "cell_type": "code",
   "execution_count": 55,
   "metadata": {},
   "outputs": [],
   "source": [
    "# check if there is any missing data\n",
    "assert ethereum[ethereum.isnull().any(axis=1)].shape == (0,7)\n",
    "# What is the shape of this data set?\n",
    "ethereum.shape"
   ]
  },
  {
   "cell_type": "code",
   "execution_count": 57,
   "metadata": {},
   "outputs": [
    {
     "data": {
      "text/html": [
       "<div>\n",
       "<style scoped>\n",
       "    .dataframe tbody tr th:only-of-type {\n",
       "        vertical-align: middle;\n",
       "    }\n",
       "\n",
       "    .dataframe tbody tr th {\n",
       "        vertical-align: top;\n",
       "    }\n",
       "\n",
       "    .dataframe thead th {\n",
       "        text-align: right;\n",
       "    }\n",
       "</style>\n",
       "<table border=\"1\" class=\"dataframe\">\n",
       "  <thead>\n",
       "    <tr style=\"text-align: right;\">\n",
       "      <th></th>\n",
       "      <th>eth_date</th>\n",
       "      <th>eth_open</th>\n",
       "      <th>eth_high</th>\n",
       "      <th>eth_low</th>\n",
       "      <th>eth_close</th>\n",
       "      <th>eth_adj close</th>\n",
       "      <th>eth_volume</th>\n",
       "      <th>eth_currency</th>\n",
       "    </tr>\n",
       "  </thead>\n",
       "  <tbody>\n",
       "    <tr>\n",
       "      <th>0</th>\n",
       "      <td>2017-12-01</td>\n",
       "      <td>445.209015</td>\n",
       "      <td>881.943970</td>\n",
       "      <td>414.411011</td>\n",
       "      <td>756.732971</td>\n",
       "      <td>756.732971</td>\n",
       "      <td>79862276544</td>\n",
       "      <td>ETH</td>\n",
       "    </tr>\n",
       "    <tr>\n",
       "      <th>1</th>\n",
       "      <td>2018-01-01</td>\n",
       "      <td>755.757019</td>\n",
       "      <td>1432.880005</td>\n",
       "      <td>742.004028</td>\n",
       "      <td>1118.310059</td>\n",
       "      <td>1118.310059</td>\n",
       "      <td>163610220288</td>\n",
       "      <td>ETH</td>\n",
       "    </tr>\n",
       "    <tr>\n",
       "      <th>2</th>\n",
       "      <td>2018-02-01</td>\n",
       "      <td>1119.369995</td>\n",
       "      <td>1161.349976</td>\n",
       "      <td>574.419006</td>\n",
       "      <td>855.198975</td>\n",
       "      <td>855.198975</td>\n",
       "      <td>83393441152</td>\n",
       "      <td>ETH</td>\n",
       "    </tr>\n",
       "    <tr>\n",
       "      <th>3</th>\n",
       "      <td>2018-03-01</td>\n",
       "      <td>856.012024</td>\n",
       "      <td>880.302002</td>\n",
       "      <td>368.632996</td>\n",
       "      <td>396.457001</td>\n",
       "      <td>396.457001</td>\n",
       "      <td>53716179584</td>\n",
       "      <td>ETH</td>\n",
       "    </tr>\n",
       "    <tr>\n",
       "      <th>4</th>\n",
       "      <td>2018-04-01</td>\n",
       "      <td>397.253998</td>\n",
       "      <td>708.875000</td>\n",
       "      <td>363.804993</td>\n",
       "      <td>669.924011</td>\n",
       "      <td>669.924011</td>\n",
       "      <td>60669918656</td>\n",
       "      <td>ETH</td>\n",
       "    </tr>\n",
       "  </tbody>\n",
       "</table>\n",
       "</div>"
      ],
      "text/plain": [
       "     eth_date     eth_open     eth_high     eth_low    eth_close  \\\n",
       "0  2017-12-01   445.209015   881.943970  414.411011   756.732971   \n",
       "1  2018-01-01   755.757019  1432.880005  742.004028  1118.310059   \n",
       "2  2018-02-01  1119.369995  1161.349976  574.419006   855.198975   \n",
       "3  2018-03-01   856.012024   880.302002  368.632996   396.457001   \n",
       "4  2018-04-01   397.253998   708.875000  363.804993   669.924011   \n",
       "\n",
       "   eth_adj close    eth_volume eth_currency  \n",
       "0     756.732971   79862276544          ETH  \n",
       "1    1118.310059  163610220288          ETH  \n",
       "2     855.198975   83393441152          ETH  \n",
       "3     396.457001   53716179584          ETH  \n",
       "4     669.924011   60669918656          ETH  "
      ]
     },
     "execution_count": 57,
     "metadata": {},
     "output_type": "execute_result"
    }
   ],
   "source": [
    "# Standardize column headers to lower case and add eth prefix\n",
    "ethereum['currency'] = \"ETH\"\n",
    "ethereum.columns = ethereum.columns.str.lower()\n",
    "ethereum = ethereum.add_prefix(\"eth_\")\n",
    "ethereum.head()"
   ]
  },
  {
   "cell_type": "markdown",
   "metadata": {},
   "source": [
    "## Historical CPU Prices/Sell Volume"
   ]
  },
  {
   "cell_type": "code",
   "execution_count": 58,
   "metadata": {},
   "outputs": [
    {
     "data": {
      "text/html": [
       "<div>\n",
       "<style scoped>\n",
       "    .dataframe tbody tr th:only-of-type {\n",
       "        vertical-align: middle;\n",
       "    }\n",
       "\n",
       "    .dataframe tbody tr th {\n",
       "        vertical-align: top;\n",
       "    }\n",
       "\n",
       "    .dataframe thead th {\n",
       "        text-align: right;\n",
       "    }\n",
       "</style>\n",
       "<table border=\"1\" class=\"dataframe\">\n",
       "  <thead>\n",
       "    <tr style=\"text-align: right;\">\n",
       "      <th></th>\n",
       "      <th>model</th>\n",
       "      <th>timestamp</th>\n",
       "      <th>price</th>\n",
       "      <th>volume</th>\n",
       "    </tr>\n",
       "  </thead>\n",
       "  <tbody>\n",
       "    <tr>\n",
       "      <th>0</th>\n",
       "      <td>Ryzen 7 1700X</td>\n",
       "      <td>1604908800000</td>\n",
       "      <td>165.00</td>\n",
       "      <td>1</td>\n",
       "    </tr>\n",
       "    <tr>\n",
       "      <th>1</th>\n",
       "      <td>Ryzen 7 1700X</td>\n",
       "      <td>1605513600000</td>\n",
       "      <td>194.96</td>\n",
       "      <td>1</td>\n",
       "    </tr>\n",
       "    <tr>\n",
       "      <th>2</th>\n",
       "      <td>Ryzen 7 1700X</td>\n",
       "      <td>1606118400000</td>\n",
       "      <td>194.96</td>\n",
       "      <td>7</td>\n",
       "    </tr>\n",
       "    <tr>\n",
       "      <th>3</th>\n",
       "      <td>Ryzen 7 1700X</td>\n",
       "      <td>1606723200000</td>\n",
       "      <td>194.96</td>\n",
       "      <td>0</td>\n",
       "    </tr>\n",
       "    <tr>\n",
       "      <th>4</th>\n",
       "      <td>Ryzen 7 1700X</td>\n",
       "      <td>1607328000000</td>\n",
       "      <td>244.96</td>\n",
       "      <td>2</td>\n",
       "    </tr>\n",
       "  </tbody>\n",
       "</table>\n",
       "</div>"
      ],
      "text/plain": [
       "           model      timestamp   price  volume\n",
       "0  Ryzen 7 1700X  1604908800000  165.00       1\n",
       "1  Ryzen 7 1700X  1605513600000  194.96       1\n",
       "2  Ryzen 7 1700X  1606118400000  194.96       7\n",
       "3  Ryzen 7 1700X  1606723200000  194.96       0\n",
       "4  Ryzen 7 1700X  1607328000000  244.96       2"
      ]
     },
     "execution_count": 58,
     "metadata": {},
     "output_type": "execute_result"
    }
   ],
   "source": [
    "# Load and check out the data\n",
    "cpu_price = pd.read_csv('./data//cpu_prices.csv')\n",
    "cpu_volume = pd.read_csv('./data/cpu_volume.csv')\n",
    "cpu = cpu_price.merge(cpu_volume)\n",
    "cpu.dropna(axis=1, inplace=True) # There was a junk column of nan's\n",
    "cpu = cpu[['model', 'timestamp', 'price', 'volume']]\n",
    "cpu.head()"
   ]
  },
  {
   "cell_type": "code",
   "execution_count": 59,
   "metadata": {},
   "outputs": [],
   "source": [
    "# check if there is any missing data\n",
    "assert cpu[cpu.isnull().any(axis=1)].shape == (0,4)\n",
    "# Change timestamps to datetimes\n",
    "cpu['date'] = cpu['timestamp'].apply(lambda x: datetime.fromtimestamp(x / 1000))\n",
    "cpu.drop(['timestamp'], axis=1, inplace=True)\n",
    "# Drop observations before a model's release date\n",
    "cpu = cpu[(cpu['price'] != 0) & (cpu['volume'] != 0)]"
   ]
  },
  {
   "cell_type": "code",
   "execution_count": 62,
   "metadata": {},
   "outputs": [
    {
     "data": {
      "text/plain": [
       "(7383, 4)"
      ]
     },
     "execution_count": 62,
     "metadata": {},
     "output_type": "execute_result"
    }
   ],
   "source": [
    "# What is the shape of this (filtered) data set?\n",
    "cpu.shape"
   ]
  },
  {
   "cell_type": "code",
   "execution_count": 63,
   "metadata": {},
   "outputs": [
    {
     "data": {
      "text/plain": [
       "model             object\n",
       "price            float64\n",
       "volume             int64\n",
       "date      datetime64[ns]\n",
       "dtype: object"
      ]
     },
     "execution_count": 63,
     "metadata": {},
     "output_type": "execute_result"
    }
   ],
   "source": [
    "# What are the types of this data?\n",
    "cpu.dtypes"
   ]
  },
  {
   "cell_type": "code",
   "execution_count": 64,
   "metadata": {},
   "outputs": [
    {
     "data": {
      "text/html": [
       "<div>\n",
       "<style scoped>\n",
       "    .dataframe tbody tr th:only-of-type {\n",
       "        vertical-align: middle;\n",
       "    }\n",
       "\n",
       "    .dataframe tbody tr th {\n",
       "        vertical-align: top;\n",
       "    }\n",
       "\n",
       "    .dataframe thead th {\n",
       "        text-align: right;\n",
       "    }\n",
       "</style>\n",
       "<table border=\"1\" class=\"dataframe\">\n",
       "  <thead>\n",
       "    <tr style=\"text-align: right;\">\n",
       "      <th></th>\n",
       "      <th>cpu_model</th>\n",
       "      <th>cpu_price</th>\n",
       "      <th>cpu_volume</th>\n",
       "      <th>cpu_date</th>\n",
       "    </tr>\n",
       "  </thead>\n",
       "  <tbody>\n",
       "    <tr>\n",
       "      <th>0</th>\n",
       "      <td>Ryzen 7 1700X</td>\n",
       "      <td>165.00</td>\n",
       "      <td>1</td>\n",
       "      <td>2020-11-09</td>\n",
       "    </tr>\n",
       "    <tr>\n",
       "      <th>1</th>\n",
       "      <td>Ryzen 7 1700X</td>\n",
       "      <td>194.96</td>\n",
       "      <td>1</td>\n",
       "      <td>2020-11-16</td>\n",
       "    </tr>\n",
       "    <tr>\n",
       "      <th>2</th>\n",
       "      <td>Ryzen 7 1700X</td>\n",
       "      <td>194.96</td>\n",
       "      <td>7</td>\n",
       "      <td>2020-11-23</td>\n",
       "    </tr>\n",
       "    <tr>\n",
       "      <th>4</th>\n",
       "      <td>Ryzen 7 1700X</td>\n",
       "      <td>244.96</td>\n",
       "      <td>2</td>\n",
       "      <td>2020-12-07</td>\n",
       "    </tr>\n",
       "    <tr>\n",
       "      <th>5</th>\n",
       "      <td>Ryzen 7 1700X</td>\n",
       "      <td>199.50</td>\n",
       "      <td>2</td>\n",
       "      <td>2020-12-14</td>\n",
       "    </tr>\n",
       "  </tbody>\n",
       "</table>\n",
       "</div>"
      ],
      "text/plain": [
       "       cpu_model  cpu_price  cpu_volume   cpu_date\n",
       "0  Ryzen 7 1700X     165.00           1 2020-11-09\n",
       "1  Ryzen 7 1700X     194.96           1 2020-11-16\n",
       "2  Ryzen 7 1700X     194.96           7 2020-11-23\n",
       "4  Ryzen 7 1700X     244.96           2 2020-12-07\n",
       "5  Ryzen 7 1700X     199.50           2 2020-12-14"
      ]
     },
     "execution_count": 64,
     "metadata": {},
     "output_type": "execute_result"
    }
   ],
   "source": [
    "# Add cpu prefix to column names\n",
    "cpu = cpu.add_prefix(\"cpu_\")\n",
    "cpu.head()"
   ]
  },
  {
   "cell_type": "markdown",
   "metadata": {},
   "source": [
    "## Historical GPU Prices/Sell Volume"
   ]
  },
  {
   "cell_type": "code",
   "execution_count": 65,
   "metadata": {},
   "outputs": [
    {
     "data": {
      "text/html": [
       "<div>\n",
       "<style scoped>\n",
       "    .dataframe tbody tr th:only-of-type {\n",
       "        vertical-align: middle;\n",
       "    }\n",
       "\n",
       "    .dataframe tbody tr th {\n",
       "        vertical-align: top;\n",
       "    }\n",
       "\n",
       "    .dataframe thead th {\n",
       "        text-align: right;\n",
       "    }\n",
       "</style>\n",
       "<table border=\"1\" class=\"dataframe\">\n",
       "  <thead>\n",
       "    <tr style=\"text-align: right;\">\n",
       "      <th></th>\n",
       "      <th>model</th>\n",
       "      <th>timestamp</th>\n",
       "      <th>price</th>\n",
       "      <th>volume</th>\n",
       "    </tr>\n",
       "  </thead>\n",
       "  <tbody>\n",
       "    <tr>\n",
       "      <th>0</th>\n",
       "      <td>Geforce GTX 960</td>\n",
       "      <td>1604908800000</td>\n",
       "      <td>0.00</td>\n",
       "      <td>0</td>\n",
       "    </tr>\n",
       "    <tr>\n",
       "      <th>1</th>\n",
       "      <td>Geforce GTX 960</td>\n",
       "      <td>1605513600000</td>\n",
       "      <td>99.99</td>\n",
       "      <td>1</td>\n",
       "    </tr>\n",
       "    <tr>\n",
       "      <th>2</th>\n",
       "      <td>Geforce GTX 960</td>\n",
       "      <td>1606118400000</td>\n",
       "      <td>99.99</td>\n",
       "      <td>0</td>\n",
       "    </tr>\n",
       "    <tr>\n",
       "      <th>3</th>\n",
       "      <td>Geforce GTX 960</td>\n",
       "      <td>1606723200000</td>\n",
       "      <td>99.99</td>\n",
       "      <td>0</td>\n",
       "    </tr>\n",
       "    <tr>\n",
       "      <th>4</th>\n",
       "      <td>Geforce GTX 960</td>\n",
       "      <td>1607328000000</td>\n",
       "      <td>99.99</td>\n",
       "      <td>0</td>\n",
       "    </tr>\n",
       "  </tbody>\n",
       "</table>\n",
       "</div>"
      ],
      "text/plain": [
       "             model      timestamp  price  volume\n",
       "0  Geforce GTX 960  1604908800000   0.00       0\n",
       "1  Geforce GTX 960  1605513600000  99.99       1\n",
       "2  Geforce GTX 960  1606118400000  99.99       0\n",
       "3  Geforce GTX 960  1606723200000  99.99       0\n",
       "4  Geforce GTX 960  1607328000000  99.99       0"
      ]
     },
     "execution_count": 65,
     "metadata": {},
     "output_type": "execute_result"
    }
   ],
   "source": [
    "# Load and check out the data\n",
    "gpu_price = pd.read_csv('./data/gpu_prices.csv')\n",
    "gpu_volume = pd.read_csv('./data/gpu_volume.csv')\n",
    "gpu = gpu_price.merge(gpu_volume)\n",
    "gpu.dropna(axis=1, inplace=True) # There was a junk column of nan's\n",
    "gpu = gpu[['model', 'timestamp', 'price', 'volume']]\n",
    "gpu.head()"
   ]
  },
  {
   "cell_type": "code",
   "execution_count": 66,
   "metadata": {},
   "outputs": [],
   "source": [
    "# check if there is any missing data\n",
    "assert gpu[gpu.isnull().any(axis=1)].shape == (0,4)\n",
    "# Change timestamps to datetimes\n",
    "gpu['date'] = gpu['timestamp'].apply(lambda x: datetime.fromtimestamp(x / 1000))\n",
    "gpu.drop(['timestamp'], axis=1, inplace=True)\n",
    "# Drop observations before a model's release date\n",
    "gpu = gpu[(gpu['price'] != 0) & (gpu['volume'] != 0)]"
   ]
  },
  {
   "cell_type": "code",
   "execution_count": 69,
   "metadata": {},
   "outputs": [
    {
     "data": {
      "text/plain": [
       "(3654, 4)"
      ]
     },
     "execution_count": 69,
     "metadata": {},
     "output_type": "execute_result"
    }
   ],
   "source": [
    "# What is the shape of this (filtered) data set?\n",
    "gpu.shape"
   ]
  },
  {
   "cell_type": "code",
   "execution_count": 70,
   "metadata": {},
   "outputs": [
    {
     "data": {
      "text/plain": [
       "model             object\n",
       "price            float64\n",
       "volume             int64\n",
       "date      datetime64[ns]\n",
       "dtype: object"
      ]
     },
     "execution_count": 70,
     "metadata": {},
     "output_type": "execute_result"
    }
   ],
   "source": [
    "# What are the types of this data?\n",
    "gpu.dtypes"
   ]
  },
  {
   "cell_type": "code",
   "execution_count": 71,
   "metadata": {},
   "outputs": [
    {
     "data": {
      "text/html": [
       "<div>\n",
       "<style scoped>\n",
       "    .dataframe tbody tr th:only-of-type {\n",
       "        vertical-align: middle;\n",
       "    }\n",
       "\n",
       "    .dataframe tbody tr th {\n",
       "        vertical-align: top;\n",
       "    }\n",
       "\n",
       "    .dataframe thead th {\n",
       "        text-align: right;\n",
       "    }\n",
       "</style>\n",
       "<table border=\"1\" class=\"dataframe\">\n",
       "  <thead>\n",
       "    <tr style=\"text-align: right;\">\n",
       "      <th></th>\n",
       "      <th>gpu_model</th>\n",
       "      <th>gpu_price</th>\n",
       "      <th>gpu_volume</th>\n",
       "      <th>gpu_date</th>\n",
       "    </tr>\n",
       "  </thead>\n",
       "  <tbody>\n",
       "    <tr>\n",
       "      <th>1</th>\n",
       "      <td>Geforce GTX 960</td>\n",
       "      <td>99.99</td>\n",
       "      <td>1</td>\n",
       "      <td>2020-11-16</td>\n",
       "    </tr>\n",
       "    <tr>\n",
       "      <th>5</th>\n",
       "      <td>Geforce GTX 960</td>\n",
       "      <td>122.00</td>\n",
       "      <td>1</td>\n",
       "      <td>2020-12-14</td>\n",
       "    </tr>\n",
       "    <tr>\n",
       "      <th>7</th>\n",
       "      <td>Geforce GTX 960</td>\n",
       "      <td>101.00</td>\n",
       "      <td>1</td>\n",
       "      <td>2020-12-28</td>\n",
       "    </tr>\n",
       "    <tr>\n",
       "      <th>8</th>\n",
       "      <td>Geforce GTX 960</td>\n",
       "      <td>115.00</td>\n",
       "      <td>1</td>\n",
       "      <td>2021-01-04</td>\n",
       "    </tr>\n",
       "    <tr>\n",
       "      <th>9</th>\n",
       "      <td>Geforce GTX 960</td>\n",
       "      <td>84.95</td>\n",
       "      <td>2</td>\n",
       "      <td>2021-01-11</td>\n",
       "    </tr>\n",
       "  </tbody>\n",
       "</table>\n",
       "</div>"
      ],
      "text/plain": [
       "         gpu_model  gpu_price  gpu_volume   gpu_date\n",
       "1  Geforce GTX 960      99.99           1 2020-11-16\n",
       "5  Geforce GTX 960     122.00           1 2020-12-14\n",
       "7  Geforce GTX 960     101.00           1 2020-12-28\n",
       "8  Geforce GTX 960     115.00           1 2021-01-04\n",
       "9  Geforce GTX 960      84.95           2 2021-01-11"
      ]
     },
     "execution_count": 71,
     "metadata": {},
     "output_type": "execute_result"
    }
   ],
   "source": [
    "# Add gpu prefix to column names\n",
    "gpu = gpu.add_prefix(\"gpu_\")\n",
    "gpu.head()"
   ]
  },
  {
   "cell_type": "markdown",
   "metadata": {},
   "source": [
    "# Results\n",
    "\n",
    "## Exploratory Data Analysis\n",
    "\n",
    "Carry out whatever EDA you need to for your project.  Because every project will be different we can't really give you much of a template at this point. But please make sure you describe the what and why in text here as well as providing interpretation of results and context."
   ]
  },
  {
   "cell_type": "markdown",
   "metadata": {},
   "source": [
    "### Historical Cryptocurrency Prices"
   ]
  },
  {
   "cell_type": "code",
   "execution_count": 87,
   "metadata": {},
   "outputs": [
    {
     "data": {
      "image/png": "[encoded data removed]",
      "text/plain": [
       "<Figure size 1440x720 with 2 Axes>"
      ]
     },
     "metadata": {
      "needs_background": "light"
     },
     "output_type": "display_data"
    }
   ],
   "source": [
    "plt.figure(figsize=(20, 10))\n",
    "plt.subplot(1, 2, 1)\n",
    "plt.title('Bitcoin Price over time')\n",
    "plt.xlabel('Year')\n",
    "plt.ylabel('Price per BTC ($)')\n",
    "plt.plot(pd.to_datetime(bitcoin['btc_date']), bitcoin['btc_adj close'])\n",
    "\n",
    "plt.subplot(1, 2, 2)\n",
    "plt.title('Ethereum Price over time')\n",
    "plt.xlabel('Year')\n",
    "plt.ylabel('Price per ETH ($)')\n",
    "plt.plot(pd.to_datetime(ethereum['eth_date']), ethereum['eth_adj close'])\n",
    "plt.show()"
   ]
  },
  {
   "cell_type": "markdown",
   "metadata": {},
   "source": [
    "Ethereum and bitcoin historical prices look a little similar, let's directly compare the two. We first need to standardize the prices as bitcoin and ethereum prices appear to be on completely different scales (in that bitcoin is worth roughly 10x more than Ethereum)."
   ]
  },
  {
   "cell_type": "code",
   "execution_count": 88,
   "metadata": {},
   "outputs": [
    {
     "name": "stdout",
     "output_type": "stream",
     "text": [
      "Correlation between Bitcoin and Ethereum Prices: 0.9237445697852168\n"
     ]
    },
    {
     "data": {
      "image/png": "[encoded data removed]",
      "text/plain": [
       "<Figure size 432x288 with 1 Axes>"
      ]
     },
     "metadata": {
      "needs_background": "light"
     },
     "output_type": "display_data"
    }
   ],
   "source": [
    "# Load and clean data\n",
    "bitcoin_prices = pd.read_csv('./data/BTC-USD.csv')\n",
    "bitcoin_prices.columns = bitcoin_prices.columns.str.lower().str.replace(' ','_')\n",
    "bitcoin_prices['currency'] = \"BTC\"\n",
    "\n",
    "ethereum_prices = pd.read_csv('./data/ETH-USD.csv')\n",
    "ethereum_prices.columns = ethereum_prices.columns.str.lower().str.replace(' ','_')\n",
    "ethereum_prices['currency'] = \"ETH\"\n",
    "\n",
    "crypto = pd.concat([bitcoin_prices, ethereum_prices], ignore_index=True)\n",
    "crypto['date'] = pd.to_datetime(crypto['date'])\n",
    "\n",
    "crypto.head()\n",
    "btc_max = crypto[crypto['currency'] == 'BTC']['adj_close'].max()\n",
    "eth_max = crypto[crypto['currency'] == 'ETH']['adj_close'].max()\n",
    "crypto['adj_close_norm'] = crypto.apply(lambda row: row['adj_close'] / btc_max if row['currency'] == 'BTC' else row['adj_close'] / eth_max, axis=1)\n",
    "sns.lineplot(x='date', y='adj_close_norm', hue='currency', data=crypto)\n",
    "\n",
    "plt.title('BTC and ETH Adjusted Close Prices Over Time')\n",
    "plt.xlabel('Date')\n",
    "plt.ylabel('Adjusted Close Normalized')\n",
    "print(f\"Correlation between Bitcoin and Ethereum Prices: {np.corrcoef(bitcoin[bitcoin['btc_date'] >= ethereum['eth_date'].min()]['btc_adj close'], ethereum['eth_adj close'])[0, 1]}\")\n",
    "plt.show()"
   ]
  },
  {
   "cell_type": "markdown",
   "metadata": {},
   "source": [
    "It appears that bitcoin and ethereum prices are strongly correlated, as their historical prices have peaked and fallen at around the same time. There are a few difference in their price history such as bitcoin having 2 major peaks in 2021-2022 while Ethereum only sees one major peak at around the same time as bitcoin's second major peak."
   ]
  },
  {
   "cell_type": "markdown",
   "metadata": {},
   "source": [
    "### Section 2 of EDA if you need it  - please give it a better title than this\n",
    "\n",
    "Some more words and stuff.  Remember notebooks work best if you interleave the code that generates a result with properly annotate figures and text that puts these results into context."
   ]
  },
  {
   "cell_type": "code",
   "execution_count": null,
   "metadata": {},
   "outputs": [],
   "source": [
    "## YOUR CODE HERE\n",
    "## FEEL FREE TO ADD MULTIPLE CELLS PER SECTION"
   ]
  },
  {
   "cell_type": "markdown",
   "metadata": {},
   "source": [
    "# Ethics & Privacy"
   ]
  },
  {
   "cell_type": "markdown",
   "metadata": {},
   "source": [
    "Our data come from Steam surveys, eBay sales, and general finance data. All of these sources are easily-accessible and public information. Because the data from the Steam surveys is already anonymized, there should not be any ethical or privacy concerns with being able to extrapolate personal identifiable information from the survey data. However, this makes it difficult to account for any potential biases in the dataset as we can only guess at the demographic of Steam users who answered the survey. Additionally, in these types of surveys it is important to be aware of many different types of biases that may come into play, including non-response, self-reporting, and other confounding variables, which could lead to a disproportionate amount of high-end hardware appearing in survey results. When choosing to scrape data from eBay, we had to be aware of terms of service and other restrictions before choosing this as a source for our final dataset. Regarding eBay sales and finance data, we don’t anticipate any ethical or privacy related concerns in our use of the data since by nature it is anonymized. There is potential to be able to identify individual companies or investors through the data, one way to address this is simply aggregating data, since we only require a broader overview. There may be concerns as to how this data is acquired and any potential biases that may be introduced. To help detect these biases as we perform analysis of the data, we will be careful to thoroughly explore the data before deeper analysis, attempting to fully understand it and being careful to note factors that may indicate biases in the data. In our post-analysis, we will discuss the results of our exploration. If we suspect any biases, we will explain their significance and the impact on the results of our analysis."
   ]
  },
  {
   "cell_type": "markdown",
   "metadata": {},
   "source": [
    "# Team Expectations "
   ]
  },
  {
   "cell_type": "markdown",
   "metadata": {},
   "source": [
    "* Attend weekly meetings on Sunday 9pm (or have a good excuse).\n",
    "* On weeks where some project component is due on Wednesday, attempt to have a working draft (e.g. 90% complete) by Monday, have everyone look over everything and revise on Tuesday, and finalize on Wednesday. Depending on the scale of a project component this timeline may be pushed forward.\n",
    "* If you ghost meetings without saying anything or fail to make meaningful attempts to contribute, your name will not be added to the notebook corresponding to whatever project component is due, and there will be a note that you did not contribute underneath everyone else's names :(\n",
    "* Don't sabotage other people's stuff >:(\n",
    "* Don't plagiarize :)"
   ]
  },
  {
   "cell_type": "markdown",
   "metadata": {},
   "source": [
    "# Project Timeline Proposal"
   ]
  },
  {
   "cell_type": "markdown",
   "metadata": {},
   "source": [
    "| Meeting Date  | Meeting Time| Completed Before Meeting  | Discuss at Meeting |\n",
    "|---|---|---|---|\n",
    "| 10/23  | 4:10 PM | Review previous data analysis projects and think about strengths and weaknesses of each project | Discuss about previous projects to avoid making the same mistakes|\n",
    "| 10/30  | 9:00 PM | Brainstorm topics/questions; Review the previous project to get some idea  | Determine best form of communication; Discuss and decide on data analysis topic; discuss hypothesis; begin background research |\n",
    "| 11/05  | 9:00 PM |Finalize datasets we will use for our project | Discuss about data wrangling and possible analytical approaches; Descriptive Analysis for checkpoint 1 | \n",
    "| 11/12  |  9:00 PM |  Data Cleaning and preprocessing; Explores the data | draft data checkpoint;Assign group members to lead each specific part | \n",
    "| 11/19  | 9:00 PM  | Finalize and submit data checkpoint; Import & Wrangle Data; EDA  | Review/Edit wrangling/EDA; Discuss Analysis Plan; Draft EDA Checkpoint;   |\n",
    "| 11/26  |9:00 PM  | Finalize EDA Checkpoint and submit; Begin Anlysis| Discuss/edit Analysis  |\n",
    "| 12/03  | 9:00 PM  | Complete analysis; Draft results/conclusion/discussion; | Discuss/edit final project |\n",
    "| 12/10  | 9:00 PM  | Make demo video| Turn in Final Project & Video |"
   ]
  }
 ],
 "metadata": {
  "kernelspec": {
   "display_name": "Python 3 (ipykernel)",
   "language": "python",
   "name": "python3"
  },
  "language_info": {
   "codemirror_mode": {
    "name": "ipython",
    "version": 3
   },
   "file_extension": ".py",
   "mimetype": "text/x-python",
   "name": "python",
   "nbconvert_exporter": "python",
   "pygments_lexer": "ipython3",
   "version": "3.9.7"
  }
 },
 "nbformat": 4,
 "nbformat_minor": 2
}
